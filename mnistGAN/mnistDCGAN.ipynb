{
 "cells": [
  {
   "cell_type": "code",
   "execution_count": 1,
   "metadata": {},
   "outputs": [],
   "source": [
    "import torch\n",
    "import torch.nn as nn\n",
    "import torch.optim as opt\n",
    "\n",
    "import torchvision\n",
    "import torchvision.datasets as datasets\n",
    "import torchvision.transforms as transforms\n",
    "\n",
    "import matplotlib.pyplot as plt\n",
    "import utils\n",
    "\n",
    "import os\n",
    "os.environ[\"KMP_DUPLICATE_LIB_OK\"] = \"True\""
   ]
  },
  {
   "cell_type": "code",
   "execution_count": 2,
   "metadata": {},
   "outputs": [],
   "source": [
    "torch.manual_seed(777)\n",
    "if torch.cuda.is_available():\n",
    "    torch.cuda.manual_seed_all(777)"
   ]
  },
  {
   "cell_type": "code",
   "execution_count": 3,
   "metadata": {},
   "outputs": [],
   "source": [
    "mnist_dataset = datasets.MNIST(\n",
    "    root=\"./data/\",\n",
    "    download=True,\n",
    "    transform=transforms.Compose(\n",
    "        [\n",
    "            transforms.ToTensor(),\n",
    "            transforms.Normalize((0.5, ), (0.5, ))\n",
    "        ]\n",
    "    )\n",
    ")"
   ]
  },
  {
   "cell_type": "code",
   "execution_count": 4,
   "metadata": {},
   "outputs": [],
   "source": [
    "BATCH_SIZE = 64\n",
    "EPOCHS= 25\n",
    "\n",
    "GENERATOR_IN_CHANNELS = 100\n",
    "GENERATOR_OUT_CHANNELS = 64\n",
    "\n",
    "DISCRIMINATOR_IN_CHANNELS = 1\n",
    "DISCRIMINATOR_OUT_CHANNELS = 64\n",
    "\n",
    "data_loader = torch.utils.data.DataLoader(\n",
    "    dataset=mnist_dataset, batch_size=BATCH_SIZE, shuffle=True, num_workers=2\n",
    ")"
   ]
  },
  {
   "cell_type": "code",
   "execution_count": 5,
   "metadata": {},
   "outputs": [],
   "source": [
    "# Output size = [(Input size - 1) * stride] - 2 * padding + kernel size\n",
    "\n",
    "class Generator(nn.Module):\n",
    "    def __init__(self, in_channels=GENERATOR_IN_CHANNELS, out_channels=GENERATOR_OUT_CHANNELS, result_channels=1):\n",
    "        super().__init__()\n",
    "        self.layers = nn.Sequential(\n",
    "            # 512 * 4 * 4\n",
    "            nn.ConvTranspose2d(in_channels=in_channels, out_channels=out_channels * 8, kernel_size=4, stride=1, padding=0),\n",
    "            nn.BatchNorm2d(out_channels * 8),\n",
    "            nn.ReLU(inplace=True),\n",
    "            \n",
    "            # 256 * 8 * 8\n",
    "            nn.ConvTranspose2d(in_channels=out_channels * 8, out_channels=out_channels * 4, kernel_size=4, stride=2, padding=1),\n",
    "            nn.BatchNorm2d(out_channels * 4),\n",
    "            nn.ReLU(inplace=True),\n",
    "            \n",
    "            # 128 * 16 * 16\n",
    "            nn.ConvTranspose2d(in_channels=out_channels * 4, out_channels=out_channels * 2, kernel_size=4, stride=2, padding=1),\n",
    "            nn.BatchNorm2d(out_channels * 2),\n",
    "            nn.ReLU(inplace=True),\n",
    "            \n",
    "            # 64 * 32 * 32\n",
    "            nn.ConvTranspose2d(in_channels=out_channels * 2, out_channels=out_channels, kernel_size=4, stride=2, padding=1),\n",
    "            nn.BatchNorm2d(out_channels),\n",
    "            nn.ReLU(inplace=True),\n",
    "            \n",
    "            # 1 * 28 * 28\n",
    "            nn.ConvTranspose2d(in_channels=out_channels, out_channels=result_channels, kernel_size=1, stride=1, padding=2),\n",
    "            nn.Tanh()    \n",
    "        )\n",
    "\n",
    "    def forward(self, x):\n",
    "        return self.layers(x)\n",
    "\n",
    "\n",
    "class Discriminator(nn.Module):\n",
    "    def __init__(self, in_channels=DISCRIMINATOR_IN_CHANNELS, out_channels=DISCRIMINATOR_OUT_CHANNELS):\n",
    "        super().__init__()\n",
    "        self.layers = nn.Sequential(\n",
    "            # 64 * 14 * 14\n",
    "            nn.Conv2d(in_channels, out_channels, kernel_size=4, stride=2, padding=1, bias=False),\n",
    "            nn.LeakyReLU(0.2, inplace=True),\n",
    "            \n",
    "            # 128 * 7 * 7\n",
    "            nn.Conv2d(out_channels, out_channels * 2, kernel_size=4, stride=2, padding=1, bias=False),\n",
    "            nn.BatchNorm2d(out_channels * 2),\n",
    "            nn.LeakyReLU(0.2, inplace=True),\n",
    "            \n",
    "            # 256 * 3 * 3\n",
    "            nn.Conv2d(out_channels * 2, out_channels * 4, kernel_size=4, stride=2, padding=1, bias=False),\n",
    "            nn.BatchNorm2d(out_channels * 4),\n",
    "            nn.LeakyReLU(0.2, inplace=True),\n",
    "            \n",
    "            # 1 * 1 * 1\n",
    "            nn.Conv2d(out_channels * 4, 1, kernel_size=4, stride=2, padding=1, bias=False),\n",
    "            nn.Sigmoid()              \n",
    "        )\n",
    "\n",
    "    def forward(self, x):\n",
    "        return self.layers(x).flatten()"
   ]
  },
  {
   "cell_type": "code",
   "execution_count": 43,
   "metadata": {},
   "outputs": [
    {
     "name": "stdout",
     "output_type": "stream",
     "text": [
      "epoch: 1 running\n",
      "\n",
      "        loss status\n",
      "        epoch: 1/25\n",
      "        geneartor loss: 10.219051361083984\n",
      "        discriminator loss: 6.0470119933597744e-05\n",
      "        \n",
      "        \n"
     ]
    },
    {
     "data": {
      "image/png": "[encoded data removed]",
      "text/plain": [
       "<Figure size 150x150 with 1 Axes>"
      ]
     },
     "metadata": {},
     "output_type": "display_data"
    },
    {
     "name": "stdout",
     "output_type": "stream",
     "text": [
      "epoch: 1 terminated\n",
      "epoch: 2 running\n",
      "\n",
      "        loss status\n",
      "        epoch: 2/25\n",
      "        geneartor loss: 11.294300079345703\n",
      "        discriminator loss: 1.9494505977490917e-05\n",
      "        \n",
      "        \n"
     ]
    },
    {
     "data": {
      "image/png": "[encoded data removed]",
      "text/plain": [
       "<Figure size 150x150 with 1 Axes>"
      ]
     },
     "metadata": {},
     "output_type": "display_data"
    },
    {
     "name": "stdout",
     "output_type": "stream",
     "text": [
      "epoch: 2 terminated\n",
      "epoch: 3 running\n",
      "\n",
      "        loss status\n",
      "        epoch: 3/25\n",
      "        geneartor loss: 12.587270736694336\n",
      "        discriminator loss: 6.569890047103399e-06\n",
      "        \n",
      "        \n"
     ]
    },
    {
     "data": {
      "image/png": "[encoded data removed]",
      "text/plain": [
       "<Figure size 150x150 with 1 Axes>"
      ]
     },
     "metadata": {},
     "output_type": "display_data"
    },
    {
     "name": "stdout",
     "output_type": "stream",
     "text": [
      "epoch: 3 terminated\n",
      "epoch: 4 running\n",
      "\n",
      "        loss status\n",
      "        epoch: 4/25\n",
      "        geneartor loss: 12.50495719909668\n",
      "        discriminator loss: 5.768926712335087e-06\n",
      "        \n",
      "        \n"
     ]
    },
    {
     "data": {
      "image/png": "[encoded data removed]",
      "text/plain": [
       "<Figure size 150x150 with 1 Axes>"
      ]
     },
     "metadata": {},
     "output_type": "display_data"
    },
    {
     "name": "stdout",
     "output_type": "stream",
     "text": [
      "epoch: 4 terminated\n",
      "epoch: 5 running\n",
      "\n",
      "        loss status\n",
      "        epoch: 5/25\n",
      "        geneartor loss: 0.8929834365844727\n",
      "        discriminator loss: 1.0110008716583252\n",
      "        \n",
      "        \n"
     ]
    },
    {
     "data": {
      "image/png": "[encoded data removed]",
      "text/plain": [
       "<Figure size 150x150 with 1 Axes>"
      ]
     },
     "metadata": {},
     "output_type": "display_data"
    },
    {
     "name": "stdout",
     "output_type": "stream",
     "text": [
      "epoch: 5 terminated\n",
      "epoch: 6 running\n",
      "\n",
      "        loss status\n",
      "        epoch: 6/25\n",
      "        geneartor loss: 0.9626049995422363\n",
      "        discriminator loss: 0.9836959838867188\n",
      "        \n",
      "        \n"
     ]
    },
    {
     "data": {
      "image/png": "[encoded data removed]",
      "text/plain": [
       "<Figure size 150x150 with 1 Axes>"
      ]
     },
     "metadata": {},
     "output_type": "display_data"
    },
    {
     "name": "stdout",
     "output_type": "stream",
     "text": [
      "epoch: 6 terminated\n",
      "epoch: 7 running\n",
      "\n",
      "        loss status\n",
      "        epoch: 7/25\n",
      "        geneartor loss: 0.9407908320426941\n",
      "        discriminator loss: 1.3770642280578613\n",
      "        \n",
      "        \n"
     ]
    },
    {
     "data": {
      "image/png": "[encoded data removed]",
      "text/plain": [
       "<Figure size 150x150 with 1 Axes>"
      ]
     },
     "metadata": {},
     "output_type": "display_data"
    },
    {
     "name": "stdout",
     "output_type": "stream",
     "text": [
      "epoch: 7 terminated\n",
      "epoch: 8 running\n",
      "\n",
      "        loss status\n",
      "        epoch: 8/25\n",
      "        geneartor loss: 0.9677985906600952\n",
      "        discriminator loss: 1.1582399606704712\n",
      "        \n",
      "        \n"
     ]
    },
    {
     "data": {
      "image/png": "[encoded data removed]",
      "text/plain": [
       "<Figure size 150x150 with 1 Axes>"
      ]
     },
     "metadata": {},
     "output_type": "display_data"
    },
    {
     "name": "stdout",
     "output_type": "stream",
     "text": [
      "epoch: 8 terminated\n",
      "epoch: 9 running\n",
      "\n",
      "        loss status\n",
      "        epoch: 9/25\n",
      "        geneartor loss: 1.5549973249435425\n",
      "        discriminator loss: 1.4708421230316162\n",
      "        \n",
      "        \n"
     ]
    },
    {
     "data": {
      "image/png": "[encoded data removed]",
      "text/plain": [
       "<Figure size 150x150 with 1 Axes>"
      ]
     },
     "metadata": {},
     "output_type": "display_data"
    },
    {
     "name": "stdout",
     "output_type": "stream",
     "text": [
      "epoch: 9 terminated\n",
      "epoch: 10 running\n",
      "\n",
      "        loss status\n",
      "        epoch: 10/25\n",
      "        geneartor loss: 1.2064863443374634\n",
      "        discriminator loss: 1.19752836227417\n",
      "        \n",
      "        \n"
     ]
    },
    {
     "data": {
      "image/png": "[encoded data removed]",
      "text/plain": [
       "<Figure size 150x150 with 1 Axes>"
      ]
     },
     "metadata": {},
     "output_type": "display_data"
    },
    {
     "name": "stdout",
     "output_type": "stream",
     "text": [
      "epoch: 10 terminated\n",
      "epoch: 11 running\n",
      "\n",
      "        loss status\n",
      "        epoch: 11/25\n",
      "        geneartor loss: 0.7701663374900818\n",
      "        discriminator loss: 1.2773776054382324\n",
      "        \n",
      "        \n"
     ]
    },
    {
     "data": {
      "image/png": "[encoded data removed]",
      "text/plain": [
       "<Figure size 150x150 with 1 Axes>"
      ]
     },
     "metadata": {},
     "output_type": "display_data"
    },
    {
     "name": "stdout",
     "output_type": "stream",
     "text": [
      "epoch: 11 terminated\n",
      "epoch: 12 running\n",
      "\n",
      "        loss status\n",
      "        epoch: 12/25\n",
      "        geneartor loss: 0.8155888915061951\n",
      "        discriminator loss: 1.2590975761413574\n",
      "        \n",
      "        \n"
     ]
    },
    {
     "data": {
      "image/png": "[encoded data removed]",
      "text/plain": [
       "<Figure size 150x150 with 1 Axes>"
      ]
     },
     "metadata": {},
     "output_type": "display_data"
    },
    {
     "name": "stdout",
     "output_type": "stream",
     "text": [
      "epoch: 12 terminated\n",
      "epoch: 13 running\n",
      "\n",
      "        loss status\n",
      "        epoch: 13/25\n",
      "        geneartor loss: 0.7728614211082458\n",
      "        discriminator loss: 1.130713939666748\n",
      "        \n",
      "        \n"
     ]
    },
    {
     "data": {
      "image/png": "[encoded data removed]",
      "text/plain": [
       "<Figure size 150x150 with 1 Axes>"
      ]
     },
     "metadata": {},
     "output_type": "display_data"
    },
    {
     "name": "stdout",
     "output_type": "stream",
     "text": [
      "epoch: 13 terminated\n",
      "epoch: 14 running\n",
      "\n",
      "        loss status\n",
      "        epoch: 14/25\n",
      "        geneartor loss: 0.8618438243865967\n",
      "        discriminator loss: 1.1199849843978882\n",
      "        \n",
      "        \n"
     ]
    },
    {
     "data": {
      "image/png": "[encoded data removed]",
      "text/plain": [
       "<Figure size 150x150 with 1 Axes>"
      ]
     },
     "metadata": {},
     "output_type": "display_data"
    },
    {
     "name": "stdout",
     "output_type": "stream",
     "text": [
      "epoch: 14 terminated\n",
      "epoch: 15 running\n",
      "\n",
      "        loss status\n",
      "        epoch: 15/25\n",
      "        geneartor loss: 1.2689496278762817\n",
      "        discriminator loss: 1.2502927780151367\n",
      "        \n",
      "        \n"
     ]
    },
    {
     "data": {
      "image/png": "[encoded data removed]",
      "text/plain": [
       "<Figure size 150x150 with 1 Axes>"
      ]
     },
     "metadata": {},
     "output_type": "display_data"
    },
    {
     "name": "stdout",
     "output_type": "stream",
     "text": [
      "epoch: 15 terminated\n",
      "epoch: 16 running\n",
      "\n",
      "        loss status\n",
      "        epoch: 16/25\n",
      "        geneartor loss: 1.1243443489074707\n",
      "        discriminator loss: 1.2355732917785645\n",
      "        \n",
      "        \n"
     ]
    },
    {
     "data": {
      "image/png": "[encoded data removed]",
      "text/plain": [
       "<Figure size 150x150 with 1 Axes>"
      ]
     },
     "metadata": {},
     "output_type": "display_data"
    },
    {
     "name": "stdout",
     "output_type": "stream",
     "text": [
      "epoch: 16 terminated\n",
      "epoch: 17 running\n",
      "\n",
      "        loss status\n",
      "        epoch: 17/25\n",
      "        geneartor loss: 1.0158615112304688\n",
      "        discriminator loss: 1.0145193338394165\n",
      "        \n",
      "        \n"
     ]
    },
    {
     "data": {
      "image/png": "[encoded data removed]",
      "text/plain": [
       "<Figure size 150x150 with 1 Axes>"
      ]
     },
     "metadata": {},
     "output_type": "display_data"
    },
    {
     "name": "stdout",
     "output_type": "stream",
     "text": [
      "epoch: 17 terminated\n",
      "epoch: 18 running\n",
      "\n",
      "        loss status\n",
      "        epoch: 18/25\n",
      "        geneartor loss: 0.7370868921279907\n",
      "        discriminator loss: 1.005661964416504\n",
      "        \n",
      "        \n"
     ]
    },
    {
     "data": {
      "image/png": "[encoded data removed]",
      "text/plain": [
       "<Figure size 150x150 with 1 Axes>"
      ]
     },
     "metadata": {},
     "output_type": "display_data"
    },
    {
     "name": "stdout",
     "output_type": "stream",
     "text": [
      "epoch: 18 terminated\n",
      "epoch: 19 running\n",
      "\n",
      "        loss status\n",
      "        epoch: 19/25\n",
      "        geneartor loss: 1.1863443851470947\n",
      "        discriminator loss: 1.3344274759292603\n",
      "        \n",
      "        \n"
     ]
    },
    {
     "data": {
      "image/png": "[encoded data removed]",
      "text/plain": [
       "<Figure size 150x150 with 1 Axes>"
      ]
     },
     "metadata": {},
     "output_type": "display_data"
    },
    {
     "name": "stdout",
     "output_type": "stream",
     "text": [
      "epoch: 19 terminated\n",
      "epoch: 20 running\n",
      "\n",
      "        loss status\n",
      "        epoch: 20/25\n",
      "        geneartor loss: 1.1946649551391602\n",
      "        discriminator loss: 1.1026381254196167\n",
      "        \n",
      "        \n"
     ]
    },
    {
     "data": {
      "image/png": "[encoded data removed]",
      "text/plain": [
       "<Figure size 150x150 with 1 Axes>"
      ]
     },
     "metadata": {},
     "output_type": "display_data"
    },
    {
     "name": "stdout",
     "output_type": "stream",
     "text": [
      "epoch: 20 terminated\n",
      "epoch: 21 running\n",
      "\n",
      "        loss status\n",
      "        epoch: 21/25\n",
      "        geneartor loss: 0.9528669714927673\n",
      "        discriminator loss: 0.9480625987052917\n",
      "        \n",
      "        \n"
     ]
    },
    {
     "data": {
      "image/png": "[encoded data removed]",
      "text/plain": [
       "<Figure size 150x150 with 1 Axes>"
      ]
     },
     "metadata": {},
     "output_type": "display_data"
    },
    {
     "name": "stdout",
     "output_type": "stream",
     "text": [
      "epoch: 21 terminated\n",
      "epoch: 22 running\n",
      "\n",
      "        loss status\n",
      "        epoch: 22/25\n",
      "        geneartor loss: 0.5878185033798218\n",
      "        discriminator loss: 0.950404167175293\n",
      "        \n",
      "        \n"
     ]
    },
    {
     "data": {
      "image/png": "[encoded data removed]",
      "text/plain": [
       "<Figure size 150x150 with 1 Axes>"
      ]
     },
     "metadata": {},
     "output_type": "display_data"
    },
    {
     "name": "stdout",
     "output_type": "stream",
     "text": [
      "epoch: 22 terminated\n",
      "epoch: 23 running\n",
      "\n",
      "        loss status\n",
      "        epoch: 23/25\n",
      "        geneartor loss: 0.9548801779747009\n",
      "        discriminator loss: 0.7746740579605103\n",
      "        \n",
      "        \n"
     ]
    },
    {
     "data": {
      "image/png": "[encoded data removed]",
      "text/plain": [
       "<Figure size 150x150 with 1 Axes>"
      ]
     },
     "metadata": {},
     "output_type": "display_data"
    },
    {
     "name": "stdout",
     "output_type": "stream",
     "text": [
      "epoch: 23 terminated\n",
      "epoch: 24 running\n",
      "\n",
      "        loss status\n",
      "        epoch: 24/25\n",
      "        geneartor loss: 0.9220973253250122\n",
      "        discriminator loss: 1.1525604724884033\n",
      "        \n",
      "        \n"
     ]
    },
    {
     "data": {
      "image/png": "[encoded data removed]",
      "text/plain": [
       "<Figure size 150x150 with 1 Axes>"
      ]
     },
     "metadata": {},
     "output_type": "display_data"
    },
    {
     "name": "stdout",
     "output_type": "stream",
     "text": [
      "epoch: 24 terminated\n",
      "epoch: 25 running\n",
      "\n",
      "        loss status\n",
      "        epoch: 25/25\n",
      "        geneartor loss: 1.7801380157470703\n",
      "        discriminator loss: 1.1082792282104492\n",
      "        \n",
      "        \n"
     ]
    },
    {
     "data": {
      "image/png": "[encoded data removed]",
      "text/plain": [
       "<Figure size 150x150 with 1 Axes>"
      ]
     },
     "metadata": {},
     "output_type": "display_data"
    },
    {
     "name": "stdout",
     "output_type": "stream",
     "text": [
      "epoch: 25 terminated\n"
     ]
    }
   ],
   "source": [
    "generator = Generator()\n",
    "generator.cuda()\n",
    "generator_optimizer = opt.Adam(generator.parameters(), lr=0.0002, betas=(0.5, 0.999))\n",
    "\n",
    "discriminator = Discriminator()\n",
    "discriminator.cuda()\n",
    "discriminator_optimizer = opt.Adam(discriminator.parameters(), lr=0.0002, betas=(0.5, 0.999))\n",
    "\n",
    "loss_function = nn.BCELoss()\n",
    "\n",
    "EPOCHS = 25\n",
    "\n",
    "for epoch in range(1, EPOCHS + 1):\n",
    "    print(f\"epoch: {epoch} running\")\n",
    "    \n",
    "    for x, _ in data_loader:\n",
    "        \n",
    "        real_x = x.cuda()\n",
    "        batch_size = x.shape[0]\n",
    "        \n",
    "        outputs = discriminator(real_x)\n",
    "        label_real = torch.ones(batch_size).cuda()\n",
    "        discriminator_loss_real = loss_function(outputs, label_real)\n",
    "        \n",
    "        noise = torch.randn(batch_size, GENERATOR_IN_CHANNELS, 1, 1).cuda()\n",
    "        fake_x = generator(noise)\n",
    "        \n",
    "        outputs = discriminator(fake_x)\n",
    "        label_fake = torch.zeros(batch_size).cuda()\n",
    "        discriminator_loss_fake = loss_function(outputs, label_fake)\n",
    "        \n",
    "        discriminator_loss = discriminator_loss_real + discriminator_loss_fake\n",
    "        \n",
    "        discriminator_optimizer.zero_grad()\n",
    "        discriminator_loss.backward()\n",
    "        discriminator_optimizer.step()\n",
    "        \n",
    "        noise = torch.randn(batch_size, GENERATOR_IN_CHANNELS, 1, 1).cuda()\n",
    "        fake_x = generator(noise)\n",
    "        outputs = discriminator(fake_x)\n",
    "        \n",
    "        generator_loss = loss_function(outputs, label_real)\n",
    "        generator_optimizer.zero_grad()\n",
    "        generator_loss.backward()\n",
    "        generator_optimizer.step()\n",
    "        \n",
    "    print(\n",
    "        f\"\"\"\n",
    "        loss status\n",
    "        epoch: {epoch}/{EPOCHS}\n",
    "        geneartor loss: {generator_loss.item()}\n",
    "        discriminator loss: {discriminator_loss.item()}\n",
    "        \n",
    "        \"\"\"\n",
    "    )\n",
    "    \n",
    "    with torch.no_grad():\n",
    "        eval_noise = torch.randn(1, GENERATOR_IN_CHANNELS, 1, 1).cuda()\n",
    "        eval_x = generator(eval_noise)\n",
    "        \n",
    "        utils.imshow(eval_x.reshape(1, -1))\n",
    "    \n",
    "    print(f\"epoch: {epoch} terminated\")\n",
    "    "
   ]
  },
  {
   "cell_type": "code",
   "execution_count": 52,
   "metadata": {},
   "outputs": [
    {
     "data": {
      "text/plain": [
       "Generator(\n",
       "  (layers): Sequential(\n",
       "    (0): ConvTranspose2d(100, 512, kernel_size=(4, 4), stride=(1, 1))\n",
       "    (1): BatchNorm2d(512, eps=1e-05, momentum=0.1, affine=True, track_running_stats=True)\n",
       "    (2): ReLU(inplace=True)\n",
       "    (3): ConvTranspose2d(512, 256, kernel_size=(4, 4), stride=(2, 2), padding=(1, 1))\n",
       "    (4): BatchNorm2d(256, eps=1e-05, momentum=0.1, affine=True, track_running_stats=True)\n",
       "    (5): ReLU(inplace=True)\n",
       "    (6): ConvTranspose2d(256, 128, kernel_size=(4, 4), stride=(2, 2), padding=(1, 1))\n",
       "    (7): BatchNorm2d(128, eps=1e-05, momentum=0.1, affine=True, track_running_stats=True)\n",
       "    (8): ReLU(inplace=True)\n",
       "    (9): ConvTranspose2d(128, 64, kernel_size=(4, 4), stride=(2, 2), padding=(1, 1))\n",
       "    (10): BatchNorm2d(64, eps=1e-05, momentum=0.1, affine=True, track_running_stats=True)\n",
       "    (11): ReLU(inplace=True)\n",
       "    (12): ConvTranspose2d(64, 1, kernel_size=(1, 1), stride=(1, 1), padding=(2, 2))\n",
       "    (13): Tanh()\n",
       "  )\n",
       ")"
      ]
     },
     "execution_count": 52,
     "metadata": {},
     "output_type": "execute_result"
    }
   ],
   "source": [
    "generator"
   ]
  },
  {
   "cell_type": "code",
   "execution_count": 64,
   "metadata": {},
   "outputs": [
    {
     "data": {
      "image/png": "[encoded data removed]",
      "text/plain": [
       "<Figure size 1500x150 with 10 Axes>"
      ]
     },
     "metadata": {},
     "output_type": "display_data"
    }
   ],
   "source": [
    "\n",
    "with torch.no_grad():\n",
    "    eval_noise = torch.randn(10, GENERATOR_IN_CHANNELS, 1, 1).cuda()\n",
    "    eval_x = generator(eval_noise)\n",
    "    \n",
    "    utils.grid_imshow(eval_x.reshape(10, -1))"
   ]
  }
 ],
 "metadata": {
  "kernelspec": {
   "display_name": "pytorch-exercise",
   "language": "python",
   "name": "python3"
  },
  "language_info": {
   "codemirror_mode": {
    "name": "ipython",
    "version": 3
   },
   "file_extension": ".py",
   "mimetype": "text/x-python",
   "name": "python",
   "nbconvert_exporter": "python",
   "pygments_lexer": "ipython3",
   "version": "3.10.12"
  },
  "orig_nbformat": 4
 },
 "nbformat": 4,
 "nbformat_minor": 2
}
